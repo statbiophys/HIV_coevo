{
 "cells": [
  {
   "cell_type": "code",
   "execution_count": null,
   "id": "b27910fa-a798-4aeb-bbed-1d4af1328bb7",
   "metadata": {},
   "outputs": [],
   "source": [
    "import numpy as np\n",
    "import matplotlib.pyplot as plt\n",
    "import pandas as pd\n",
    "import os\n",
    "import abr_fam_utils as ut"
   ]
  },
  {
   "cell_type": "code",
   "execution_count": null,
   "id": "4a8f3756-5de0-42cd-a148-5b43a1de886e",
   "metadata": {},
   "outputs": [],
   "source": [
    "def select_first_V(row):\n",
    "    row['v_call'] = row['v_call'].split('*')[0]\n",
    "    return row\n",
    "def select_first_J(row):\n",
    "    row['j_call'] = row['j_call'].split('*')[0]\n",
    "    return row\n",
    "\n",
    "\n",
    "def import_clone_frames(directory, samples=[]):\n",
    "    \n",
    "    clones = dict()\n",
    "    for file_name in os.listdir(directory):\n",
    "\n",
    "        if '_abr_clones.tsv' in file_name: # Loop over the clone files\n",
    "            \n",
    "            sample_id = file_name.split('_')[0]+'_'+file_name.split('_')[1]\n",
    "            \n",
    "            if len(samples) > 0 and sample_id not in samples:\n",
    "                continue\n",
    "                \n",
    "            clone_frame = pd.read_csv(directory+\"/\"+file_name,sep='\\t')\n",
    "            clone_frame = clone_frame[['duplicate_count', 'junction', \n",
    "                                       'v_call', 'j_call']]\n",
    "            clone_frame = clone_frame[clone_frame['duplicate_count'] > 1]\n",
    "            clone_frame = clone_frame.apply(select_first_V, axis=1)\n",
    "            clone_frame = clone_frame.apply(select_first_J, axis=1)\n",
    "            sample_id = file_name.split('_')[0]+'_'+file_name.split('_')[1]\n",
    "            clones[sample_id] = clone_frame\n",
    "            \n",
    "    return clones\n",
    "\n",
    "def import_clone_frame_pat(directory, pat, keep_seq=False):\n",
    "    \"\"\"\n",
    "    Import all the abr family dataframes in a dir of a patient\n",
    "    \"\"\"\n",
    "    samples = []\n",
    "    for file_name in os.listdir(directory):\n",
    "        if file_name.split('_')[1][:3] == 'day':\n",
    "            p = int(file_name.split('_')[0][3:])\n",
    "            if p == int(pat):\n",
    "                samples.append('pat' + str(p)+'_day'+file_name.split('_')[1][3:])\n",
    "    return import_clone_frames(directory, samples)"
   ]
  },
  {
   "cell_type": "code",
   "execution_count": null,
   "id": "8b96626e-419a-4dce-a8b7-c5e5f3d4e527",
   "metadata": {},
   "outputs": [],
   "source": [
    "pat = '8'\n",
    "clones = import_clone_frame_pat('../abr_clones', '8')\n",
    "\n",
    "ids = []\n",
    "frames = []\n",
    "for id_, f in clones.items():\n",
    "    ids.append(id_)\n",
    "    frames.append(f)"
   ]
  },
  {
   "cell_type": "code",
   "execution_count": null,
   "id": "89520bc4-868b-4c8e-badf-513ddc4f6423",
   "metadata": {},
   "outputs": [],
   "source": [
    "ab_fam_gen = ut.abr_families_gen(frames, 'duplicate_count', 'junction', 'v_call', 'j_call', False)\n",
    "print(len(ab_fam_gen.merged_frame))"
   ]
  },
  {
   "cell_type": "code",
   "execution_count": null,
   "id": "5b608867-5015-4f93-8609-dcd37962164b",
   "metadata": {},
   "outputs": [],
   "source": [
    "fam_th = 0.1\n",
    "%time fams = ab_fam_gen.run(fam_th, 30, compute_translator=False)"
   ]
  },
  {
   "cell_type": "code",
   "execution_count": null,
   "id": "b31639de-76ff-4969-9d14-32d3d88f617b",
   "metadata": {},
   "outputs": [],
   "source": [
    "out_dir = 'abr_fams'\n",
    "for i in range(len(fams)):\n",
    "    fams[i].sort_values(['counts'], ascending=[False]).to_csv(out_dir+'/'+ids[i]+'_abr_fams.tsv', sep='\\t')"
   ]
  },
  {
   "cell_type": "code",
   "execution_count": null,
   "id": "453f2bea-1c1f-43f7-b9c6-a8261e251cdb",
   "metadata": {},
   "outputs": [],
   "source": [
    "fams[7].sort_values('counts')"
   ]
  },
  {
   "cell_type": "code",
   "execution_count": null,
   "id": "696d286c-653f-45e2-bc11-4e85f9f0d953",
   "metadata": {},
   "outputs": [],
   "source": []
  }
 ],
 "metadata": {
  "kernelspec": {
   "display_name": "Python 3",
   "language": "python",
   "name": "python3"
  },
  "language_info": {
   "codemirror_mode": {
    "name": "ipython",
    "version": 3
   },
   "file_extension": ".py",
   "mimetype": "text/x-python",
   "name": "python",
   "nbconvert_exporter": "python",
   "pygments_lexer": "ipython3",
   "version": "3.8.8"
  }
 },
 "nbformat": 4,
 "nbformat_minor": 5
}
